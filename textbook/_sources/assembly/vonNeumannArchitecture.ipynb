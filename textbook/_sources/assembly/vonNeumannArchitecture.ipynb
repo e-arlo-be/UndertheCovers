{
 "cells": [
  {
   "cell_type": "code",
   "execution_count": null,
   "id": "ff9245ee-2d80-4600-87f0-545557a40c65",
   "metadata": {
    "tags": [
     "remove-cell"
    ]
   },
   "outputs": [],
   "source": [
    "%run -i ../python/common.py"
   ]
  },
  {
   "cell_type": "markdown",
   "id": "5a709035-0a81-463d-9458-d650fb7b5ea5",
   "metadata": {},
   "source": [
    "# The von Neumann Architecture\n",
    "\n",
    "As we saw in the [introduction](./intro.ipynb) assembly code directly maps to the native machine code of a computer.  As such the assembly instructions directly allow a programmer to use and control the basic functions of the computer in order to get the computer to do what they want.   Whether that is to search or sort an array of numbers, play a music file or some other task.   \n",
    "\n",
    "But to understand assembly programming we have to learn what the basic parts are of any computer are and how they work so we can understand what the assembly instructions allow us to do.    This is why understanding how computers and software work are one in the same as learning assembly programming. "
   ]
  },
  {
   "cell_type": "code",
   "execution_count": null,
   "id": "95030e9d-b62d-4206-bf02-b931dcb89646",
   "metadata": {
    "tags": [
     "remove-input"
    ]
   },
   "outputs": [],
   "source": [
    "display(Markdown(htmlFig(\"../images/SLS_TheMachine.png\", \n",
    "              align=\"left\", \n",
    "              margin=\"auto 1em 0 auto\", \n",
    "              width=\"60%\", id=\"fig:vnm\", \n",
    "             caption=\"Figure: Our illustration of a von Neumann computer\") + \n",
    "                 '''\n",
    "Despite the fact that there are many different manufactures of computers they all largely \n",
    "share a basic common structure.  We call the generic components, their organization \n",
    "and the way they interact the architecture of a machine.  In our \n",
    "case the common architecture to which most programmable computers are built around \n",
    "is that of the von Neumann Architecture named after [\n",
    "John von Neumann](https://en.wikipedia.org/wiki/John_von_Neumann).\n",
    "'''))"
   ]
  },
  {
   "cell_type": "markdown",
   "id": "89167d23-5b5f-4424-a024-9d2b3772da09",
   "metadata": {},
   "source": [
    "> <img style=\"margin: 5px 0px -5px 0px;\" align=\"left\" width=\"60\" src=\"../images/commentary.svg\"> <p style=\"background-color:powderblue;\"> In our journey to understand computers we will be exploring a fascinating story of human innovation and ingenuity.  This story is full of characters, such as John von Neumann, Alan Turning, Admiral Grace Hopper, Ada Love Lace, and many more, that dared to be and think differently.  Not only do we owe a great deal of gratitude to these courageous people, who often risked a lot in suggesting new ways of thinking and doing things, challenging the orthodoxy of their day, we can also draw inspiration in their diversity and bravery. Remember who you are and that your voice matters, tomorrows innovation rests on your actions!  "
   ]
  },
  {
   "cell_type": "code",
   "execution_count": null,
   "id": "eeabcde6-d61e-4725-90a4-741560a74f79",
   "metadata": {
    "jupyter": {
     "source_hidden": true
    },
    "tags": [
     "popout",
     "remove-input"
    ]
   },
   "outputs": [],
   "source": [
    "display(Markdown(htmlFig(\"../images/edvac.png\", \n",
    "              align=\"center\", \n",
    "              margin=\"auto 0 0 auto\", \n",
    "              width=\"100%\", id=\"fig:edvac\", \n",
    "             caption=\"Figure: The archetype of the general-purpose digital computer\")))"
   ]
  },
  {
   "cell_type": "markdown",
   "id": "43ecd04e-a567-495c-840a-4c7070e42509",
   "metadata": {},
   "source": [
    "## The Central Processing Unit (CPU)\n",
    "\n",
    "There are many words today that we might hear used to refer to the Central Processing Unit (CPU) including processor, micro-processor and core.  Our goal, at this point, is to build our knowledge of how all computers work and then dive into more details by looking at how a particular computer works.  From this more generic perspective there are two ways of considering what a CPU is.  \n",
    "\n",
    "1. Physically: A complex electical device composed of [transistors](https://en.wikipedia.org/wiki/Transistor) and wires.\n",
    "2. Logically: A core building block for programmable information processing \n",
    "\n",
    "\n",
    "### Physically\n",
    "\n",
    "While we won't dwell too much on the physical nature of a CPU it is worth \"looking\" at a few examples and noting a few if their characteristics and various challenges we face in building more advanced versions.  These challenges arise from physical limitation in the construction, connection to other devices and powering of the CPU itself. These challenges and the current approachs to trying to mitigate them also has an effect on how one needs to write software that will perform well on modern hardware.  We don't really need to worry about that right now but it is a theme we will revist later once we have a core understanding of the basics of how software and hardware interact."
   ]
  },
  {
   "cell_type": "code",
   "execution_count": null,
   "id": "c8071f16-add4-436f-add3-98f694ffb43c",
   "metadata": {
    "jupyter": {
     "source_hidden": true
    },
    "tags": [
     "remove-input"
    ]
   },
   "outputs": [],
   "source": [
    "display(Markdown(htmlFig(\"../images/physcpus.png\", \n",
    "              align=\"left\", \n",
    "              margin=\"auto 1em 0 auto\", \n",
    "              width=\"100%\", id=\"fig:physcpus\", \n",
    "             caption=\"Figure: Examples of physical CPUs.  For each CPU we note the product name, the number of 'pins' that connect it to the reset of the computer and the count of transistors it is composed of.\")))"
   ]
  },
  {
   "cell_type": "markdown",
   "id": "7edca55e-25c8-45d1-a9a8-b1664ad39b41",
   "metadata": {},
   "source": [
    "In the <a href=\"#fig:physcpus\">Examples of physical CPUs figure</a>, above, we see photos of some physical cpus along with a \"pin out\" diagram that describes how to physically connect it to the rest of the computer.  Over the years it is clear that the complexity of CPUs has certainly grown.  In the 1970's CPUs were composed of thousands of transistors and only required tens of pins to connect to rest of the computer.  By 2021 we see that cpus now contain billions of transistors and require thousands for physical connections to the reset of the system.\n",
    "\n",
    "While an over-simplification, one of the uses of transistors in a CPU is to create, \"switches\" that from the logic circuts used to implement basic operations such as adding numbers. In order to make the CPU do these operations faster we need to be able to operate the transitors, turn them on and off, faster and faster.  Unfortunately doing so requires more and more energy and creates more more heat.  As such over the last decade it has become harder and harder to speed up CPUs, given the increase in energy and attendant increase in heat it leads too.   On the other hand we have managed to figure out how to continually shrink the size of transistors that has allowed us to pack more and more transistors into CPUs, however some believe that we are getting to end of this ability as we are approching the physical limits to how small we can make a transistor. \n",
    "\n",
    "Regardless we have reached a point that making cpus operate faster is very hard to do and while we might be able to fit more transitors on the chip we are at the limits of how many we have powered on at the same time (due to energy and heat constraints).  Finally it is also very hard to imagine that we can fit many more \"pins\" that connect the cpu to the rest of the computer.\n",
    "\n",
    "Over the years these effects have resulted in a situation that the performance of the software we write has become more and more dependent on how it interacts with the internal way the extra transistors are used.  For example in a modern processor a large number of transistors are used to form what is called [cache](https://en.wikipedia.org/wiki/CPU_cache) memory.  While software can benefit, its performance increases, from caches it is possible to write the same software in different ways that get greater or lesser benefit if you understand how the caches work and the way your software interacts with them.  Similarly today CPU's often use the extra transistors to create multiple internal sub-CPUs, called [cores](https://en.wikipedia.org/wiki/Multi-core_processor).  A program, however does not automatically benefit from multiple cores unless it is written to explicity exploit them via \"parallel threads\" of execution.  But to understand how to do this one first needs to understand the classic model by which a single core CPU works and its interaction with memory.   \n",
    "\n",
    "The bottom line is CPU's are complex organizations of transistors and as we reach the physical limits to how we traditionaly build them the way software is written and structured becomes more and more important with respect to our ability to get computers to do more.  But the first step to understanding how to do this is understanding the basics of the von Neumann model of software execution that CPUs implement.  "
   ]
  },
  {
   "cell_type": "markdown",
   "id": "dc364151-ddce-4ab6-8b68-4165302551a3",
   "metadata": {},
   "source": [
    "### Logically\n",
    "\n",
    "So while physical CPU's have clearly gotten more and more complex their basic role and function as defined by the von Neumann architecture has remained more or less the same.   It is this precise property that makes it possible to learn the basics of how a generic CPU works and understand how software executes on any computer.  As a matter of fact if we consider the line of CPU's from INTEL software written on a 1970 verions of their products can still be run on the CPU's they produced in 2021 because at the heart of it the 2021 version still remains consistent with basic model of a computer built around the 1970's CPU. \n",
    "\n",
    "While the physical aspects of a CPU matter there is a logical internal structure and operation that define its programming model and this is what we need to care about so that we can get a precise idea of what it exactly means to execute software and therefore what software is exactly. The CPU has a set of internal components, functions a core \"Loop\" behaviour that combines its capabilities with the other two components of a computer; Memory and Input/Output (I/O) to execute programs. \n",
    "\n",
    "In what remains of this chapter we will build up our understanding of the von Neumann architecture outwards from the internals of the CPU and \"The Loop\" it implements outwards to the memory and I/O components."
   ]
  },
  {
   "cell_type": "markdown",
   "id": "6ee84460-060e-4685-aaac-48ae7ca5a326",
   "metadata": {},
   "source": [
    "## Visualizing a generic von Neumann computer\n",
    "\n",
    "In order to understand a generic model of a von Neumann computer we will use a series of diagrams that progressively visualize the components and show how they interact to execute a program.      To be clear we are using a logical representation that refects a working model that captures the things we need to care about to program a computer and what it execution means.  Each part we introduce while generic maps to things that we will find refected in the \"real\" computers we will learn to practically program in this section of the book.  \n",
    "\n",
    "At the end of this chapter we will look at how the SOL6502 simulated computer lets us look at the parts, manipulate them and watch them in action.  \n",
    "\n",
    "### The CPU\n",
    "\n",
    "### Operations\n",
    "\n",
    "### Registers\n",
    "\n",
    "> Registers are memory locations within the CPU that are connect to the operation circuits.  Each register has a unique fixed name and a value that can be changed.  Their values can be feed as input to an operation or set as as the output from an operation.   Typically three types categories of registers: 1) General Purpose Registers (GPRS) 2) Special Purpose Registers (SPRS) and 3) Hidden Registers.  \n",
    "\n",
    "With respect to \"normal\" programming we largely only need to concern ourselves with the the GPRS and knowing about a couple of standard SPRS. As we will see soon it will also be useful to explicitly introduce at least one of the register that usually hidden from programmers to make understanding execution easier.  \n",
    "\n",
    "> <img style=\"display: inline; margin: 1em 1em auto auto;\" align=\"left\" width=\"40px\" src=\"../images/fyi.png\"> <p style=\"background-color:powderblue;\"> \n",
    "  What do we mean by \"normal\" programming?  As we saw in Part I: The UNIX Development Environment software is largley broken down into two parts: 1) application software that runs within processes and 2) a single operating system kernel composed of software that provides all processes with a wide range of special functions.  Most CPU's provide a special mode of execution for the OS kernel in this mode an expanded set of operations and SPRS are available for use.  As such OS kernel software uses the GPRS, SPRS and the expanded set of operations to implement is routines.  We typically call this mode of operation \"Priveliged\" and as such we often call the kernel software priveledged code given its expanded access to the hardware resources of the computer and the application or user software as unprivedged.   Many CPUs expand on this idea to provide multiple levels of priviledge which enables a further degree of layering of the systems softwae.  For example may CPUs use extra levels of priviledge to introduction support for a virtual machine monitor (or hypervisor) layer of software that can sit below standard operating system kernels and allow the hardware to be shared by multiple OS's each thinking they are running on the computer by themselves.\n",
    "\n",
    "#### General Purpose Registers (GPRS)\n",
    "    \n",
    "\n",
    "#### Instruction Register (IR)\n",
    "\n",
    "##### OPCODE\n",
    "> An OPCODE is an encoded value that identifies a particular operation and where it inputs come from and if output that is created should go too.  Inputs to an operation are typically called **Operands**.\n",
    "\n",
    "#### Program Counter (PC)\n"
   ]
  },
  {
   "cell_type": "markdown",
   "id": "6cd214f6-4f9b-48f9-a43c-f6cd964056ea",
   "metadata": {},
   "source": [
    "## The Loop -- Program Execution"
   ]
  },
  {
   "cell_type": "code",
   "execution_count": null,
   "id": "68182832-a225-4bef-af76-b4d51ceaf304",
   "metadata": {},
   "outputs": [],
   "source": []
  }
 ],
 "metadata": {
  "hide_input": false,
  "kernelspec": {
   "display_name": "Python 3 (ipykernel)",
   "language": "python",
   "name": "python3"
  },
  "language_info": {
   "codemirror_mode": {
    "name": "ipython",
    "version": 3
   },
   "file_extension": ".py",
   "mimetype": "text/x-python",
   "name": "python",
   "nbconvert_exporter": "python",
   "pygments_lexer": "ipython3",
   "version": "3.9.7"
  }
 },
 "nbformat": 4,
 "nbformat_minor": 5
}
