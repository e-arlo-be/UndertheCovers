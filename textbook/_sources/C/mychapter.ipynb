{
 "cells": [
  {
   "cell_type": "markdown",
   "id": "d7c0433b-b7e5-44b1-9821-504807504f9a",
   "metadata": {},
   "source": [
    "# New Chapter\n",
    "\n",
    "under construction, lecture material can be found [here](https://jappavoo.github.io/UndertheCovers/lecturenotes/C/L20.html)"
   ]
  }
 ],
 "metadata": {
  "kernelspec": {
   "display_name": "Python 3 (ipykernel)",
   "language": "python",
   "name": "python3"
  },
  "language_info": {
   "codemirror_mode": {
    "name": "ipython",
    "version": 3
   },
   "file_extension": ".py",
   "mimetype": "text/x-python",
   "name": "python",
   "nbconvert_exporter": "python",
   "pygments_lexer": "ipython3",
   "version": "3.9.6"
  }
 },
 "nbformat": 4,
 "nbformat_minor": 5
}
